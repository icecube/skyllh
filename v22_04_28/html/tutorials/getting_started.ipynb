{
 "cells": [
  {
   "cell_type": "markdown",
   "id": "0b906063-5b59-4428-96fd-289fc465ebec",
   "metadata": {},
   "source": [
    "# Getting started\n",
    "\n",
    "SkyLLH is a Python based framework to develop and to perform general maximum likelihood ratio hypothesis testing.\n",
    "\n",
    "The idea of SkyLLH is to provide a framework with a class structure that is tied to the mathematical objects of the likelihood functions, rather than to entire abstract likelihood models\n",
    "\n",
    "Slack channel: [#skyllh](https://icecube-spno.slack.com/channels/skyllh)\n",
    "\n",
    "The user can find pre-defined IceCube log-likelihood analyses in [i3skyllh](https://github.com/icecube/i3skyllh) project.\n",
    "\n",
    "\n",
    "## SkyLLH's analysis workflow\n",
    "\n",
    "To set-up and run an analysis the following procedure applies:\n",
    "\n",
    "1. Create an analysis instance (preferably based on pre-defined `create_analysis` functions).\n",
    "It takes care of the following parts:\n",
    "\n",
    "   1. Add the datasets and their PDF ratio instances via the [Analysis.add_dataset](../reference/skyllh.core.analysis.html#skyllh.core.analysis.Analysis.add_dataset) method.\n",
    "   2. Construct the log-likelihood ratio function via the [Analysis.construct_llhratio](../reference/skyllh.core.analysis.html#skyllh.core.analysis.Analysis.construct_llhratio) method.\n",
    "\n",
    "\n",
    "2. Call the [Analysis.do_trial](../reference/skyllh.core.analysis.html#skyllh.core.analysis.Analysis.do_trial) or [Analysis.unblind](../reference/skyllh.core.analysis.html#skyllh.core.analysis.Analysis.unblind) method to perform a random trial or to unblind the data. Both methods will fit the global fit parameters using the set up data. Finally, the test statistic is calculated internally via the [Analysis.calculate_test_statistic](../reference/skyllh.core.analysis.html#skyllh.core.analysis.Analysis.calculate_test_statistic) method."
   ]
  }
 ],
 "metadata": {
  "kernelspec": {
   "display_name": "Python 3 (ipykernel)",
   "language": "python",
   "name": "python3"
  },
  "language_info": {
   "codemirror_mode": {
    "name": "ipython",
    "version": 3
   },
   "file_extension": ".py",
   "mimetype": "text/x-python",
   "name": "python",
   "nbconvert_exporter": "python",
   "pygments_lexer": "ipython3",
   "version": "3.8.10"
  }
 },
 "nbformat": 4,
 "nbformat_minor": 5
}
