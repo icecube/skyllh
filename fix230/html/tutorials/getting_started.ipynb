{
 "cells": [
  {
   "attachments": {},
   "cell_type": "markdown",
   "id": "0b906063-5b59-4428-96fd-289fc465ebec",
   "metadata": {},
   "source": [
    "# Getting started\n",
    "\n",
    "SkyLLH is a Python based framework to develop and to perform maximum likelihood ratio hypothesis testing.\n",
    "\n",
    "The idea of SkyLLH is to provide a framework with a class structure that is tied to the mathematical objects of the likelihood functions.\n",
    "\n",
    "Slack channel: [#skyllh](https://icecube-spno.slack.com/channels/skyllh)\n",
    "\n",
    "An IceCube member can find pre-defined IceCube log-likelihood analyses in the (privat) [i3skyllh](https://github.com/icecube/i3skyllh) project.\n",
    "\n",
    "\n",
    "## SkyLLH's analysis workflow\n",
    "\n",
    "To set-up and run an analysis the following procedure applies:"
   ]
  },
  {
   "cell_type": "raw",
   "id": "c090c1ac",
   "metadata": {},
   "source": [
    "1. Create a (local) configuration for the analysis."
   ]
  },
  {
   "cell_type": "code",
   "execution_count": 2,
   "id": "98eb2f8c",
   "metadata": {},
   "outputs": [],
   "source": [
    "from skyllh.core.config import Config\n",
    "cfg = Config()"
   ]
  },
  {
   "attachments": {},
   "cell_type": "raw",
   "id": "d1929cdb",
   "metadata": {},
   "source": [
    "An updated configuration from the default configuration can also be loaded from\n",
    "a *yaml* file or form a Python dictionary."
   ]
  },
  {
   "cell_type": "code",
   "execution_count": 5,
   "id": "104f74c3",
   "metadata": {},
   "outputs": [],
   "source": [
    "cfg = Config.from_dict({\n",
    "    'project': {\n",
    "        'working_directory': '/home/mwolf/projects/publicdata_ps',\n",
    "    }})"
   ]
  },
  {
   "cell_type": "raw",
   "id": "ce2502d0",
   "metadata": {
    "raw_mimetype": "text/restructuredtext"
   },
   "source": [
    "2. Create an analysis instance (preferably based on pre-defined \n",
    "`create_analysis` functions). It takes care of the following parts:\n",
    "\n",
    "   1. Add the datasets and their PDF ratio instances via the :py:meth:`skyllh.core.analysis.Analysis.add_dataset` method.\n",
    "   2. Construct the log-likelihood ratio function via the :py:meth:`skyllh.core.analysis.Analysis.construct_llhratio` method."
   ]
  },
  {
   "cell_type": "raw",
   "id": "cb08d693",
   "metadata": {
    "raw_mimetype": "text/restructuredtext"
   },
   "source": [
    "3. Call the :py:meth:`skyllh.core.analysis.Analysis.do_trial`, or \n",
    ":py:meth:`skyllh.core.analysis.Analysis.unblind` method to perform a random \n",
    "trial, or to unblind the data, respectively. Both methods will fit the global\n",
    "fit parameters using the set up data. Finally, the test statistic is calculated\n",
    "internally via the \n",
    ":py:meth:`skyllh.core.analysis.Analysis.calculate_test_statistic` method."
   ]
  },
  {
   "cell_type": "raw",
   "id": "95a714df",
   "metadata": {},
   "source": []
  }
 ],
 "metadata": {
  "celltoolbar": "Raw Cell Format",
  "kernelspec": {
   "display_name": "Python 3",
   "language": "python",
   "name": "python3"
  },
  "language_info": {
   "codemirror_mode": {
    "name": "ipython",
    "version": 3
   },
   "file_extension": ".py",
   "mimetype": "text/x-python",
   "name": "python",
   "nbconvert_exporter": "python",
   "pygments_lexer": "ipython3",
   "version": "3.10.6"
  }
 },
 "nbformat": 4,
 "nbformat_minor": 5
}
